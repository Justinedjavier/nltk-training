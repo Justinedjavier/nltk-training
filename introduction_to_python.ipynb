{
  "nbformat": 4,
  "nbformat_minor": 0,
  "metadata": {
    "colab": {
      "name": "introduction-to-python.ipynb",
      "version": "0.3.2",
      "provenance": [],
      "collapsed_sections": [],
      "include_colab_link": true
    },
    "kernelspec": {
      "name": "python3",
      "display_name": "Python 3"
    }
  },
  "cells": [
    {
      "cell_type": "markdown",
      "metadata": {
        "id": "view-in-github",
        "colab_type": "text"
      },
      "source": [
        "[View in Colaboratory](https://colab.research.google.com/github/Justinedjavier/nltk-training/blob/master/introduction_to_python.ipynb)"
      ]
    },
    {
      "metadata": {
        "id": "Ovtoi-DnawpV",
        "colab_type": "code",
        "colab": {
          "base_uri": "https://localhost:8080/",
          "height": 136
        },
        "outputId": "7a64b03f-d825-4be4-8e7a-000adce3122c"
      },
      "cell_type": "code",
      "source": [
        "subjects = ['Science','Physics','Com Sci','Chemistry']\n",
        "'Mathematics' in subjects\n",
        "\n",
        "subjects[0] = 'Mathematics'\n",
        "print (subjects)\n",
        "print (subjects[-1])\n",
        "print (subjects[1:])\n",
        "print (subjects[1:3])\n",
        "subjects.append('Statistics')\n",
        "print (subjects)\n",
        "\n",
        "scientist = {'Name':'Khat','Field':'Mathematics'}\n",
        "print(scientist.keys())\n",
        "print(scientist.values())"
      ],
      "execution_count": 16,
      "outputs": [
        {
          "output_type": "stream",
          "text": [
            "['Mathematics', 'Physics', 'Com Sci', 'Chemistry']\n",
            "Chemistry\n",
            "['Physics', 'Com Sci', 'Chemistry']\n",
            "['Physics', 'Com Sci']\n",
            "['Mathematics', 'Physics', 'Com Sci', 'Chemistry', 'Statistics']\n",
            "dict_keys(['Name', 'Field'])\n",
            "dict_values(['Khat', 'Mathematics'])\n"
          ],
          "name": "stdout"
        }
      ]
    },
    {
      "metadata": {
        "id": "DPH5EqkXdxHN",
        "colab_type": "code",
        "colab": {
          "base_uri": "https://localhost:8080/",
          "height": 34
        },
        "outputId": "17f25c8d-5d08-452e-9fec-bde34a8ff661"
      },
      "cell_type": "code",
      "source": [
        "if 'Mathematics' in subjects:\n",
        "  print('Wow')"
      ],
      "execution_count": 20,
      "outputs": [
        {
          "output_type": "stream",
          "text": [
            "Wow\n"
          ],
          "name": "stdout"
        }
      ]
    },
    {
      "metadata": {
        "id": "yvCWF6H5eAUc",
        "colab_type": "code",
        "colab": {
          "base_uri": "https://localhost:8080/",
          "height": 68
        },
        "outputId": "7d528acd-44aa-44bf-e844-496b9da99cf5"
      },
      "cell_type": "code",
      "source": [
        "value = 0\n",
        "while True:\n",
        "  print('hello')\n",
        "  if value == 2:\n",
        "    break\n",
        "  value +=1\n",
        "  \n",
        "  "
      ],
      "execution_count": 22,
      "outputs": [
        {
          "output_type": "stream",
          "text": [
            "hello\n",
            "hello\n",
            "hello\n"
          ],
          "name": "stdout"
        }
      ]
    },
    {
      "metadata": {
        "id": "GCQduVc_jf-A",
        "colab_type": "code",
        "colab": {}
      },
      "cell_type": "code",
      "source": [
        "\n"
      ],
      "execution_count": 0,
      "outputs": []
    }
  ]
}